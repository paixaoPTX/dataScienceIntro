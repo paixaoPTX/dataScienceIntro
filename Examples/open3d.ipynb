{
 "cells": [
  {
   "attachments": {},
   "cell_type": "markdown",
   "metadata": {
    "collapsed": false
   },
   "source": [
    "# Install\n",
    "pip install open3d\n",
    "# Requirements\n",
    "Python >=3.7 and Python <=3.10\n"
   ]
  },
  {
   "cell_type": "code",
   "execution_count": 1,
   "metadata": {
    "collapsed": false
   },
   "outputs": [
    {
     "ename": "ModuleNotFoundError",
     "evalue": "No module named 'open3d'",
     "output_type": "error",
     "traceback": [
      "\u001b[1;31m---------------------------------------------------------------------------\u001b[0m",
      "\u001b[1;31mModuleNotFoundError\u001b[0m                       Traceback (most recent call last)",
      "Cell \u001b[1;32mIn[1], line 1\u001b[0m\n\u001b[1;32m----> 1\u001b[0m \u001b[39mimport\u001b[39;00m \u001b[39mopen3d\u001b[39;00m \u001b[39mas\u001b[39;00m \u001b[39mo3d\u001b[39;00m\n\u001b[0;32m      2\u001b[0m \u001b[39mimport\u001b[39;00m \u001b[39mnumpy\u001b[39;00m \u001b[39mas\u001b[39;00m \u001b[39mnp\u001b[39;00m\n",
      "\u001b[1;31mModuleNotFoundError\u001b[0m: No module named 'open3d'"
     ]
    }
   ],
   "source": [
    "import open3d as o3d\n",
    "import numpy as np"
   ]
  },
  {
   "cell_type": "code",
   "execution_count": 13,
   "metadata": {
    "ExecuteTime": {
     "end_time": "2023-07-10T14:48:13.817555207Z",
     "start_time": "2023-07-10T14:48:02.747774031Z"
    },
    "collapsed": false
   },
   "outputs": [],
   "source": [
    "# Defining the path to the 3D model file.\n",
    "mesh_path = \"data/g20.ply\"\n",
    "# Reading the 3D model file as a 3D mesh using open3d.\n",
    "mesh = o3d.io.read_triangle_mesh(mesh_path)\n",
    "# Visualizing the mesh.\n",
    "draw_geoms_list = [mesh]\n",
    "o3d.visualization.draw_geometries(draw_geoms_list)"
   ]
  },
  {
   "cell_type": "code",
   "execution_count": 14,
   "metadata": {
    "ExecuteTime": {
     "end_time": "2023-07-10T14:48:23.459578072Z",
     "start_time": "2023-07-10T14:48:16.948953364Z"
    },
    "collapsed": false
   },
   "outputs": [],
   "source": [
    "# Defining the path to the 3D model file.\n",
    "mesh_path = \"data/g20__.ply\"\n",
    "# Reading the 3D model file as a 3D mesh using open3d.\n",
    "mesh = o3d.io.read_triangle_mesh(mesh_path)\n",
    "# Visualizing the mesh.\n",
    "draw_geoms_list = [mesh]\n",
    "o3d.visualization.draw_geometries(draw_geoms_list)"
   ]
  },
  {
   "cell_type": "code",
   "execution_count": 15,
   "metadata": {
    "ExecuteTime": {
     "end_time": "2023-07-10T14:48:29.170420906Z",
     "start_time": "2023-07-10T14:48:29.151019253Z"
    },
    "collapsed": false
   },
   "outputs": [
    {
     "name": "stdout",
     "output_type": "stream",
     "text": [
      "Centroid coordinates [-0.67194498  0.61908907  1.60159157]\n",
      "New centroid coordinates  [2.32805502 2.61908907 5.60159157]\n"
     ]
    }
   ],
   "source": [
    "# Compute centroid of the mesh\n",
    "centroid = np.asarray(mesh.get_center())\n",
    "print(f\"Centroid coordinates {centroid}\")\n",
    "# Translate the mesh to the origin\n",
    "mesh.translate([3,2,4])\n",
    "print(f\"New centroid coordinates  {np.asarray(mesh.get_center())}\")"
   ]
  },
  {
   "cell_type": "code",
   "execution_count": 16,
   "metadata": {
    "ExecuteTime": {
     "end_time": "2023-07-10T14:48:40.101705658Z",
     "start_time": "2023-07-10T14:48:40.051452541Z"
    },
    "collapsed": false
   },
   "outputs": [
    {
     "name": "stdout",
     "output_type": "stream",
     "text": [
      "Mesh area: 5864.695406163586\n"
     ]
    }
   ],
   "source": [
    "#Function that computes the surface area of the mesh, i.e. the sum of the individual triangle surfaces.\n",
    "print(f\"Mesh area: {mesh.get_surface_area()}\")\n"
   ]
  },
  {
   "cell_type": "code",
   "execution_count": null,
   "metadata": {
    "collapsed": false
   },
   "outputs": [],
   "source": [
    "#Function that computes the volume of the mesh.\n",
    "print(f\"Mesh Volume:{mesh.get_volume()}\")"
   ]
  },
  {
   "cell_type": "code",
   "execution_count": 17,
   "metadata": {
    "ExecuteTime": {
     "end_time": "2023-07-10T14:49:16.422614734Z",
     "start_time": "2023-07-10T14:49:01.433590528Z"
    },
    "collapsed": false
   },
   "outputs": [
    {
     "name": "stdout",
     "output_type": "stream",
     "text": [
      "AxisAlignedBoundingBox: min: (-8.3423, -19.6606, -23.2261), max: (11.4241, 26.7002, 42.1789)\n",
      "[[ -8.34229565 -19.66055489 -23.2260952 ]\n",
      " [ 11.42413998 -19.66055489 -23.2260952 ]\n",
      " [ -8.34229565  26.70023346 -23.2260952 ]\n",
      " [ -8.34229565 -19.66055489  42.17887497]\n",
      " [ 11.42413998  26.70023346  42.17887497]\n",
      " [ -8.34229565  26.70023346  42.17887497]\n",
      " [ 11.42413998 -19.66055489  42.17887497]\n",
      " [ 11.42413998  26.70023346 -23.2260952 ]]\n",
      "[-23.2260952 -23.2260952 -23.2260952   0.          0.          0.\n",
      "   0.        -23.2260952]\n",
      "AxisAlignedBoundingBox: min: (-8.3423, -19.6606, -23.2261), max: (11.4241, 26.7002, 0)\n"
     ]
    }
   ],
   "source": [
    "# Cropping the car mesh using its bouding box to remove its right half (positive Z-axis).\n",
    "bbox = mesh.get_axis_aligned_bounding_box()\n",
    "print(bbox)\n",
    "bbox_points = np.asarray(bbox.get_box_points())\n",
    "print(bbox_points)\n",
    "bbox_points[:, 2] = np.clip(bbox_points[:, 2], a_min=None, a_max=0)\n",
    "print(bbox_points[:, 2])\n",
    "#Create a bounding box volume\n",
    "bbox_cropped = o3d.geometry.AxisAlignedBoundingBox.create_from_points(o3d.utility.Vector3dVector(bbox_points))\n",
    "bbox2 = bbox_cropped.get_axis_aligned_bounding_box()\n",
    "print(bbox2)\n",
    "# crop the mesh\n",
    "cropped_mesh = mesh.crop(bbox_cropped)\n",
    "o3d.visualization.draw_geometries([cropped_mesh])\n"
   ]
  },
  {
   "cell_type": "code",
   "execution_count": 11,
   "metadata": {
    "ExecuteTime": {
     "end_time": "2023-07-10T14:43:20.006840114Z",
     "start_time": "2023-07-10T14:43:19.841284335Z"
    },
    "collapsed": false
   },
   "outputs": [
    {
     "name": "stdout",
     "output_type": "stream",
     "text": [
      "Average Distance: 1.2685634679918003\n"
     ]
    }
   ],
   "source": [
    "\n",
    "# Load the first mesh from file\n",
    "mesh1 = o3d.io.read_triangle_mesh( \"g20.ply\")\n",
    "\n",
    "# Load the second mesh from file\n",
    "mesh2 = o3d.io.read_triangle_mesh(\"g20__.ply\")\n",
    "\n",
    "# Convert the meshes to point clouds\n",
    "pcd1 = mesh1.sample_points_uniformly(number_of_points=1000)\n",
    "pcd2 = mesh2.sample_points_uniformly(number_of_points=1000)\n",
    "\n",
    "# Compute the distances between the point clouds\n",
    "distances = pcd1.compute_point_cloud_distance(pcd2)\n",
    "\n",
    "# Convert distances to a NumPy array\n",
    "distances_toarray = np.asarray(distances)\n",
    "\n",
    "# Print the average distance\n",
    "average_distance = distances_toarray.mean()\n",
    "print(\"Average Distance:\", average_distance)"
   ]
  },
  {
   "cell_type": "code",
   "execution_count": null,
   "metadata": {
    "collapsed": false
   },
   "outputs": [],
   "source": []
  }
 ],
 "metadata": {
  "kernelspec": {
   "display_name": "Python 3",
   "language": "python",
   "name": "python3"
  },
  "language_info": {
   "codemirror_mode": {
    "name": "ipython",
    "version": 3
   },
   "file_extension": ".py",
   "mimetype": "text/x-python",
   "name": "python",
   "nbconvert_exporter": "python",
   "pygments_lexer": "ipython3",
   "version": "3.11.4"
  }
 },
 "nbformat": 4,
 "nbformat_minor": 0
}
